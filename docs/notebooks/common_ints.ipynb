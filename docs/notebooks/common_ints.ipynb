{
 "cells": [
  {
   "cell_type": "code",
   "execution_count": 6,
   "metadata": {},
   "outputs": [],
   "source": [
    "from collections import Counter\n",
    "from typing import List\n",
    "\n",
    "from functools import reduce\n",
    "from itertools import repeat, chain"
   ]
  },
  {
   "cell_type": "markdown",
   "metadata": {},
   "source": [
    "# Python: Common Integers\n",
    "\n",
    "This implementation addresses the intersection of sequences where element frequency matters. Standard `Python` set operations discard duplicates, but many applications require preserving the count of repeated elements.\n",
    "\n",
    "The initial implementation follows `Python`'s conventional patterns while incorporating *functional concepts*. It processes element frequencies through explicit *iteration*, creating **intermediate collections** to store results.\n",
    "\n",
    "This approach mirrors typical `Python` data processing: we first count elements, then *iterate* through the counts to *build our result*. The **nested function** structure provides clean separation of the two-sequence intersection logic from the *multi-sequence reduction*."
   ]
  },
  {
   "cell_type": "code",
   "execution_count": 7,
   "metadata": {},
   "outputs": [],
   "source": [
    "def intersection(*arrays: List) -> List:\n",
    "    \"\"\"Return a list that is the intersection of the input lists, preserving duplicates\"\"\"\n",
    "    if not arrays:\n",
    "        return []\n",
    "    if len(arrays) == 1:\n",
    "        return list(arrays[0])\n",
    "    \n",
    "    def intersect_two(arr1: List, arr2: List) -> List:\n",
    "        # Count frequencies in second array\n",
    "        freq2 = Counter(arr2)\n",
    "        # Group elements in first array\n",
    "        freq1 = Counter(arr1)\n",
    "        # Take minimum frequency for each common element\n",
    "        result = []\n",
    "        for item in freq1:\n",
    "            if item in freq2:\n",
    "                result.extend([item] * min(freq1[item], freq2[item]))\n",
    "        return result\n",
    "\n",
    "    # Reduce through all arrays starting with intersection of first two\n",
    "    result = arrays[0]\n",
    "    for arr in arrays[1:]:\n",
    "        result = intersect_two(result, arr)\n",
    "    return result"
   ]
  },
  {
   "cell_type": "markdown",
   "metadata": {},
   "source": [
    "The refined version draws inspiration from `Clojure`'s approach to **sequence processing**. It eliminates *explicit iteration* in favor of *functional composition* through `itertools`. The intersection logic transforms into a single expression that *chains* frequency counting, filtering, and element repetition. This mirrors `Clojure`'s **thread-last macro** (`->>`), creating a more *declarative flow* of data transformations. The use of reduce similarly reflects Clojure's preference for **functional iteration patterns**."
   ]
  },
  {
   "cell_type": "code",
   "execution_count": 8,
   "metadata": {},
   "outputs": [],
   "source": [
    "def intersection(*arrays: List) -> List:\n",
    "    \"\"\"Return a list that is the intersection of the input lists, preserving duplicates\"\"\"\n",
    "    if not arrays:\n",
    "        return []\n",
    "    if len(arrays) == 1:\n",
    "        return list(arrays[0])\n",
    "    \n",
    "    def intersect_two(arr1: List, arr2: List) -> List:\n",
    "        freq2 = Counter(arr2)\n",
    "        return list(chain.from_iterable(\n",
    "            repeat(item, min(count, freq2[item]))\n",
    "            for item, count in Counter(arr1).items()\n",
    "            if item in freq2\n",
    "        ))\n",
    "    \n",
    "    return reduce(intersect_two, arrays[1:], arrays[0])"
   ]
  },
  {
   "cell_type": "markdown",
   "metadata": {},
   "source": [
    "The output demonstrates how **frequency preservation** works in **sequence intersections**. When intersecting [1 1 2] with [1 1 1 2], we get [1 1 2] because each element appears at its minimum frequency across both sequences. This behavior extends naturally to multiple sequences through successive application of the two-sequence intersection operation."
   ]
  },
  {
   "cell_type": "code",
   "execution_count": 9,
   "metadata": {},
   "outputs": [
    {
     "name": "stdout",
     "output_type": "stream",
     "text": [
      "[1, 2, 3]\n",
      "[3]\n",
      "[1, 1, 2]\n",
      "[1, 3]\n"
     ]
    }
   ],
   "source": [
    "print(intersection([1, 1, 2, 3], [1, 2, 3, 4]))\n",
    "print(intersection([1, 2, 3], [2, 3, 4], [3, 4, 5]))\n",
    "print(intersection([1, 1, 2], [1, 1, 1, 2]))\n",
    "print(intersection([1, 1, 2, 3], [1, 2, 3], [1, 3]))"
   ]
  }
 ],
 "metadata": {
  "kernelspec": {
   "display_name": "Python 3",
   "language": "python",
   "name": "python3"
  },
  "language_info": {
   "codemirror_mode": {
    "name": "ipython",
    "version": 3
   },
   "file_extension": ".py",
   "mimetype": "text/x-python",
   "name": "python",
   "nbconvert_exporter": "python",
   "pygments_lexer": "ipython3",
   "version": "2.7.undefined"
  }
 },
 "nbformat": 4,
 "nbformat_minor": 2
}
